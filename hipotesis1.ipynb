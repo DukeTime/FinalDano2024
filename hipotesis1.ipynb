{
 "cells": [
  {
   "cell_type": "code",
   "execution_count": 13,
   "metadata": {},
   "outputs": [],
   "source": [
    "import pandas as pd\n",
    "from sklearn.model_selection import train_test_split\n",
    "from sklearn.metrics import accuracy_score, mean_squared_error\n",
    "from sklearn.linear_model import LinearRegression\n",
    "from sklearn.ensemble import RandomForestClassifier\n"
   ]
  },
  {
   "cell_type": "code",
   "execution_count": 7,
   "metadata": {},
   "outputs": [
    {
     "name": "stdout",
     "output_type": "stream",
     "text": [
      "               item_id category  days_active  has_video  photo_count  \\\n",
      "0  8076197464449224704   Собаки            5      False            4   \n",
      "1  2301513707259929088   Собаки           25      False            2   \n",
      "2  4342659728781161984    Кошки           25      False            4   \n",
      "3  8692771077297838080    Кошки           25       True            1   \n",
      "4  6210575840772697088    Кошки           18      False            4   \n",
      "\n",
      "                  title  title_length  description_length  \\\n",
      "0    Харизматичный друг            18                1155   \n",
      "1  Собака в добрые руки            20                  49   \n",
      "2            Добрый кот            10                 354   \n",
      "3     Кот в добрые руки            17                 869   \n",
      "4            Просто кот            10                  30   \n",
      "\n",
      "   description_word_count                                      DescriptionRu  \\\n",
      "0                     184  Кто это? \\nПлохой мальчик? \\nМафиозный авторит...   \n",
      "1                       7  осталась одна девочка.Мама лайка папа не известен   \n",
      "2                      55  Ласковый, деликатный и спокойный котик. Ходит ...   \n",
      "3                     123  Кот Суслик возраст около 7 месяцев.\\nНашла кот...   \n",
      "4                       6                     Кот зовут Вася примерно 3 года   \n",
      "\n",
      "   ... gender    age  price  seller_n_month  seller_count_reviews  \\\n",
      "0  ...      М  108.0      0              35                   1.0   \n",
      "1  ...      Ж    NaN     -1              68                   4.0   \n",
      "2  ...      М   60.0      1              99                   0.0   \n",
      "3  ...      М    7.0      1             142                   2.0   \n",
      "4  ...      М   36.0      0               4                   0.0   \n",
      "\n",
      "   seller_rating  page_views  contacts  favorites        cr  \n",
      "0            5.0           0         0          0       NaN  \n",
      "1            4.8         484        10         17  2.066116  \n",
      "2            0.0          13         0          1  0.000000  \n",
      "3            5.0          36         0          1  0.000000  \n",
      "4            0.0          33         0          5  0.000000  \n",
      "\n",
      "[5 rows x 21 columns]\n"
     ]
    }
   ],
   "source": [
    "file_path = \"data\\\\avito_new_data_for_dano_firs_gip.xlsx\"\n",
    "data = pd.read_excel(file_path)\n",
    "\n",
    "# Просмотр первых строк данных\n",
    "print(data.head())"
   ]
  },
  {
   "cell_type": "code",
   "execution_count": 9,
   "metadata": {},
   "outputs": [],
   "source": [
    "# Удаление строк с пропущенными значениями\n",
    "data = data.dropna()\n",
    "\n",
    "# Пример: Кодирование категориальных данных\n",
    "data['category'] = data['category'].astype('category').cat.codes\n",
    "\n",
    "# Разделение на признаки (X) и целевую переменную (y)\n",
    "X = data[['photo_count', 'has_video']]  # Замените на названия ваших столбцов\n",
    "y = data['cr']  # Замените на название целевой переменной\n"
   ]
  },
  {
   "cell_type": "code",
   "execution_count": 10,
   "metadata": {},
   "outputs": [],
   "source": [
    "\n",
    "# Разделение данных\n",
    "X_train, X_test, y_train, y_test = train_test_split(X, y, test_size=0.2, random_state=42)\n"
   ]
  },
  {
   "cell_type": "code",
   "execution_count": 14,
   "metadata": {},
   "outputs": [],
   "source": [
    "\n",
    "\n",
    "# Создание и обучение модели\n",
    "model = LinearRegression()\n",
    "model.fit(X_train, y_train)\n",
    "\n",
    "# Предсказание\n",
    "y_pred = model.predict(X_test)\n"
   ]
  },
  {
   "cell_type": "code",
   "execution_count": 17,
   "metadata": {},
   "outputs": [
    {
     "name": "stdout",
     "output_type": "stream",
     "text": [
      "MSE: 5.30\n",
      "R^2: 0.00\n"
     ]
    }
   ],
   "source": [
    "from sklearn.metrics import mean_squared_error, r2_score\n",
    "\n",
    "# MSE (среднеквадратичная ошибка)\n",
    "mse = mean_squared_error(y_test, y_pred)\n",
    "print(f\"MSE: {mse:.2f}\")\n",
    "\n",
    "# R^2 (коэффициент детерминации)\n",
    "r2 = r2_score(y_test, y_pred)\n",
    "print(f\"R^2: {r2:.2f}\")"
   ]
  },
  {
   "cell_type": "code",
   "execution_count": 18,
   "metadata": {},
   "outputs": [
    {
     "data": {
      "image/png": "[encoded data removed]",
      "text/plain": [
       "<Figure size 640x480 with 1 Axes>"
      ]
     },
     "metadata": {},
     "output_type": "display_data"
    }
   ],
   "source": [
    "import matplotlib.pyplot as plt\n",
    "\n",
    "# Визуализация предсказанных и реальных значений\n",
    "plt.scatter(y_test, y_pred)\n",
    "plt.xlabel(\"Actual\")\n",
    "plt.ylabel(\"Predicted\")\n",
    "plt.title(\"Actual vs Predicted\")\n",
    "plt.show()\n"
   ]
  }
 ],
 "metadata": {
  "kernelspec": {
   "display_name": ".venv",
   "language": "python",
   "name": "python3"
  },
  "language_info": {
   "codemirror_mode": {
    "name": "ipython",
    "version": 3
   },
   "file_extension": ".py",
   "mimetype": "text/x-python",
   "name": "python",
   "nbconvert_exporter": "python",
   "pygments_lexer": "ipython3",
   "version": "3.13.1"
  }
 },
 "nbformat": 4,
 "nbformat_minor": 2
}
