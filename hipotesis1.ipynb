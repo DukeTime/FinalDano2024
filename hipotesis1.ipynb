{
 "cells": [
  {
   "cell_type": "code",
   "execution_count": 21,
   "metadata": {},
   "outputs": [],
   "source": [
    "import pandas as pd\n",
    "import matplotlib.pyplot as plt\n",
    "import seaborn as sns\n",
    "import numpy as np\n",
    "from scipy.stats import ttest_ind, mannwhitneyu\n",
    "from copy import copy\n",
    "from sklearn.model_selection import train_test_split\n"
   ]
  },
  {
   "cell_type": "code",
   "execution_count": 23,
   "metadata": {},
   "outputs": [
    {
     "name": "stdout",
     "output_type": "stream",
     "text": [
      "               item_id category  days_active  has_video  photo_count  \\\n",
      "0  8076197464449224704   Собаки            5      False            4   \n",
      "1  2301513707259929088   Собаки           25      False            2   \n",
      "2  4342659728781161984    Кошки           25      False            4   \n",
      "3  8692771077297838080    Кошки           25       True            1   \n",
      "4  6210575840772697088    Кошки           18      False            4   \n",
      "\n",
      "                  title  title_length  description_length  \\\n",
      "0    Харизматичный друг            18                1155   \n",
      "1  Собака в добрые руки            20                  49   \n",
      "2            Добрый кот            10                 354   \n",
      "3     Кот в добрые руки            17                 869   \n",
      "4            Просто кот            10                  30   \n",
      "\n",
      "   description_word_count                                      DescriptionRu  \\\n",
      "0                     184  Кто это? \\nПлохой мальчик? \\nМафиозный авторит...   \n",
      "1                       7  осталась одна девочка.Мама лайка папа не известен   \n",
      "2                      55  Ласковый, деликатный и спокойный котик. Ходит ...   \n",
      "3                     123  Кот Суслик возраст около 7 месяцев.\\nНашла кот...   \n",
      "4                       6                     Кот зовут Вася примерно 3 года   \n",
      "\n",
      "   ... gender    age  price  seller_n_month  seller_count_reviews  \\\n",
      "0  ...      М  108.0      0              35                   1.0   \n",
      "1  ...      Ж    NaN     -1              68                   4.0   \n",
      "2  ...      М   60.0      1              99                   0.0   \n",
      "3  ...      М    7.0      1             142                   2.0   \n",
      "4  ...      М   36.0      0               4                   0.0   \n",
      "\n",
      "   seller_rating  page_views  contacts  favorites        cr  \n",
      "0            5.0           0         0          0       NaN  \n",
      "1            4.8         484        10         17  2.066116  \n",
      "2            0.0          13         0          1  0.000000  \n",
      "3            5.0          36         0          1  0.000000  \n",
      "4            0.0          33         0          5  0.000000  \n",
      "\n",
      "[5 rows x 21 columns]\n"
     ]
    }
   ],
   "source": [
    "file_path = \"data\\\\avito_new_data_for_dano_firs_gip.xlsx\"\n",
    "data = pd.read_excel(file_path)\n",
    "\n",
    "# Просмотр первых строк данных\n",
    "print(data.head())"
   ]
  },
  {
   "cell_type": "code",
   "execution_count": 25,
   "metadata": {},
   "outputs": [
    {
     "ename": "KeyError",
     "evalue": "\"None of [Index(['feature1', 'feature2'], dtype='object')] are in the [columns]\"",
     "output_type": "error",
     "traceback": [
      "\u001b[1;31m---------------------------------------------------------------------------\u001b[0m",
      "\u001b[1;31mKeyError\u001b[0m                                  Traceback (most recent call last)",
      "\u001b[1;32md:\\ForPy\\Git\\FinalDano2024\\hipotesis1.ipynb Cell 3\u001b[0m line \u001b[0;36m8\n\u001b[0;32m      <a href='vscode-notebook-cell:/d%3A/ForPy/Git/FinalDano2024/hipotesis1.ipynb#X10sZmlsZQ%3D%3D?line=4'>5</a>\u001b[0m data[\u001b[39m'\u001b[39m\u001b[39mcategory\u001b[39m\u001b[39m'\u001b[39m] \u001b[39m=\u001b[39m data[\u001b[39m'\u001b[39m\u001b[39mcategory\u001b[39m\u001b[39m'\u001b[39m]\u001b[39m.\u001b[39mastype(\u001b[39m'\u001b[39m\u001b[39mcategory\u001b[39m\u001b[39m'\u001b[39m)\u001b[39m.\u001b[39mcat\u001b[39m.\u001b[39mcodes\n\u001b[0;32m      <a href='vscode-notebook-cell:/d%3A/ForPy/Git/FinalDano2024/hipotesis1.ipynb#X10sZmlsZQ%3D%3D?line=6'>7</a>\u001b[0m \u001b[39m# Разделение на признаки (X) и целевую переменную (y)\u001b[39;00m\n\u001b[1;32m----> <a href='vscode-notebook-cell:/d%3A/ForPy/Git/FinalDano2024/hipotesis1.ipynb#X10sZmlsZQ%3D%3D?line=7'>8</a>\u001b[0m X \u001b[39m=\u001b[39m data[[\u001b[39m'\u001b[39;49m\u001b[39mfeature1\u001b[39;49m\u001b[39m'\u001b[39;49m, \u001b[39m'\u001b[39;49m\u001b[39mfeature2\u001b[39;49m\u001b[39m'\u001b[39;49m]]  \u001b[39m# Замените на названия ваших столбцов\u001b[39;00m\n\u001b[0;32m      <a href='vscode-notebook-cell:/d%3A/ForPy/Git/FinalDano2024/hipotesis1.ipynb#X10sZmlsZQ%3D%3D?line=8'>9</a>\u001b[0m y \u001b[39m=\u001b[39m data[\u001b[39m'\u001b[39m\u001b[39mtarget\u001b[39m\u001b[39m'\u001b[39m]  \u001b[39m# Замените на название целевой переменной\u001b[39;00m\n",
      "File \u001b[1;32md:\\3\\Lib\\site-packages\\pandas\\core\\frame.py:4096\u001b[0m, in \u001b[0;36mDataFrame.__getitem__\u001b[1;34m(self, key)\u001b[0m\n\u001b[0;32m   4094\u001b[0m     \u001b[39mif\u001b[39;00m is_iterator(key):\n\u001b[0;32m   4095\u001b[0m         key \u001b[39m=\u001b[39m \u001b[39mlist\u001b[39m(key)\n\u001b[1;32m-> 4096\u001b[0m     indexer \u001b[39m=\u001b[39m \u001b[39mself\u001b[39;49m\u001b[39m.\u001b[39;49mcolumns\u001b[39m.\u001b[39;49m_get_indexer_strict(key, \u001b[39m\"\u001b[39;49m\u001b[39mcolumns\u001b[39;49m\u001b[39m\"\u001b[39;49m)[\u001b[39m1\u001b[39m]\n\u001b[0;32m   4098\u001b[0m \u001b[39m# take() does not accept boolean indexers\u001b[39;00m\n\u001b[0;32m   4099\u001b[0m \u001b[39mif\u001b[39;00m \u001b[39mgetattr\u001b[39m(indexer, \u001b[39m\"\u001b[39m\u001b[39mdtype\u001b[39m\u001b[39m\"\u001b[39m, \u001b[39mNone\u001b[39;00m) \u001b[39m==\u001b[39m \u001b[39mbool\u001b[39m:\n",
      "File \u001b[1;32md:\\3\\Lib\\site-packages\\pandas\\core\\indexes\\base.py:6200\u001b[0m, in \u001b[0;36mIndex._get_indexer_strict\u001b[1;34m(self, key, axis_name)\u001b[0m\n\u001b[0;32m   6197\u001b[0m \u001b[39melse\u001b[39;00m:\n\u001b[0;32m   6198\u001b[0m     keyarr, indexer, new_indexer \u001b[39m=\u001b[39m \u001b[39mself\u001b[39m\u001b[39m.\u001b[39m_reindex_non_unique(keyarr)\n\u001b[1;32m-> 6200\u001b[0m \u001b[39mself\u001b[39;49m\u001b[39m.\u001b[39;49m_raise_if_missing(keyarr, indexer, axis_name)\n\u001b[0;32m   6202\u001b[0m keyarr \u001b[39m=\u001b[39m \u001b[39mself\u001b[39m\u001b[39m.\u001b[39mtake(indexer)\n\u001b[0;32m   6203\u001b[0m \u001b[39mif\u001b[39;00m \u001b[39misinstance\u001b[39m(key, Index):\n\u001b[0;32m   6204\u001b[0m     \u001b[39m# GH 42790 - Preserve name from an Index\u001b[39;00m\n",
      "File \u001b[1;32md:\\3\\Lib\\site-packages\\pandas\\core\\indexes\\base.py:6249\u001b[0m, in \u001b[0;36mIndex._raise_if_missing\u001b[1;34m(self, key, indexer, axis_name)\u001b[0m\n\u001b[0;32m   6247\u001b[0m \u001b[39mif\u001b[39;00m nmissing:\n\u001b[0;32m   6248\u001b[0m     \u001b[39mif\u001b[39;00m nmissing \u001b[39m==\u001b[39m \u001b[39mlen\u001b[39m(indexer):\n\u001b[1;32m-> 6249\u001b[0m         \u001b[39mraise\u001b[39;00m \u001b[39mKeyError\u001b[39;00m(\u001b[39mf\u001b[39m\u001b[39m\"\u001b[39m\u001b[39mNone of [\u001b[39m\u001b[39m{\u001b[39;00mkey\u001b[39m}\u001b[39;00m\u001b[39m] are in the [\u001b[39m\u001b[39m{\u001b[39;00maxis_name\u001b[39m}\u001b[39;00m\u001b[39m]\u001b[39m\u001b[39m\"\u001b[39m)\n\u001b[0;32m   6251\u001b[0m     not_found \u001b[39m=\u001b[39m \u001b[39mlist\u001b[39m(ensure_index(key)[missing_mask\u001b[39m.\u001b[39mnonzero()[\u001b[39m0\u001b[39m]]\u001b[39m.\u001b[39munique())\n\u001b[0;32m   6252\u001b[0m     \u001b[39mraise\u001b[39;00m \u001b[39mKeyError\u001b[39;00m(\u001b[39mf\u001b[39m\u001b[39m\"\u001b[39m\u001b[39m{\u001b[39;00mnot_found\u001b[39m}\u001b[39;00m\u001b[39m not in index\u001b[39m\u001b[39m\"\u001b[39m)\n",
      "\u001b[1;31mKeyError\u001b[0m: \"None of [Index(['feature1', 'feature2'], dtype='object')] are in the [columns]\""
     ]
    }
   ],
   "source": [
    "# Удаление строк с пропущенными значениями\n",
    "data = data.dropna()\n",
    "\n",
    "# Пример: Кодирование категориальных данных\n",
    "data['category'] = data['category'].astype('category').cat.codes\n",
    "\n",
    "# Разделение на признаки (X) и целевую переменную (y)\n",
    "X = data[['feature1', 'feature2']]  # Замените на названия ваших столбцов\n",
    "y = data['target']  # Замените на название целевой переменной\n"
   ]
  },
  {
   "cell_type": "code",
   "execution_count": null,
   "metadata": {},
   "outputs": [
    {
     "name": "stdout",
     "output_type": "stream",
     "text": [
      "                            OLS Regression Results                            \n",
      "==============================================================================\n",
      "Dep. Variable:                      y   R-squared:                       0.005\n",
      "Model:                            OLS   Adj. R-squared:                  0.005\n",
      "Method:                 Least Squares   F-statistic:                     77.79\n",
      "Date:                Fri, 13 Dec 2024   Prob (F-statistic):           1.99e-34\n",
      "Time:                        16:08:26   Log-Likelihood:            -1.6253e+05\n",
      "No. Observations:               31894   AIC:                         3.251e+05\n",
      "Df Residuals:                   31891   BIC:                         3.251e+05\n",
      "Df Model:                           2                                         \n",
      "Covariance Type:            nonrobust                                         \n",
      "==============================================================================\n",
      "                 coef    std err          t      P>|t|      [0.025      0.975]\n",
      "------------------------------------------------------------------------------\n",
      "const         44.9441      0.480     93.589      0.000      44.003      45.885\n",
      "x1             0.4016      0.113      3.550      0.000       0.180       0.623\n",
      "x2                  0          0        nan        nan           0           0\n",
      "x3            -0.0184      0.001    -12.463      0.000      -0.021      -0.015\n",
      "==============================================================================\n",
      "Omnibus:                     5767.449   Durbin-Watson:                   2.021\n",
      "Prob(Omnibus):                  0.000   Jarque-Bera (JB):             9456.437\n",
      "Skew:                           1.252   Prob(JB):                         0.00\n",
      "Kurtosis:                       3.921   Cond. No.                     1.09e+21\n",
      "==============================================================================\n",
      "\n",
      "Notes:\n",
      "[1] Standard Errors assume that the covariance matrix of the errors is correctly specified.\n",
      "[2] The smallest eigenvalue is 1.87e-33. This might indicate that there are\n",
      "strong multicollinearity problems or that the design matrix is singular.\n",
      "R-squared на тестовых данных: 0.0031930413793284096\n",
      "Среднеквадратичная ошибка (MSE): 1557.2861170561882\n"
     ]
    }
   ],
   "source": [
    "\n",
    "# Разделение данных\n",
    "X_train, X_test, y_train, y_test = train_test_split(X, y, test_size=0.2, random_state=42)\n"
   ]
  },
  {
   "cell_type": "code",
   "execution_count": null,
   "metadata": {},
   "outputs": [
    {
     "ename": "ModuleNotFoundError",
     "evalue": "No module named 'sklearn'",
     "output_type": "error",
     "traceback": [
      "\u001b[1;31m---------------------------------------------------------------------------\u001b[0m",
      "\u001b[1;31mModuleNotFoundError\u001b[0m                       Traceback (most recent call last)",
      "Cell \u001b[1;32mIn[1], line 1\u001b[0m\n\u001b[1;32m----> 1\u001b[0m \u001b[38;5;28;01mfrom\u001b[39;00m \u001b[38;5;21;01msklearn\u001b[39;00m\u001b[38;5;21;01m.\u001b[39;00m\u001b[38;5;21;01mlinear_model\u001b[39;00m \u001b[38;5;28;01mimport\u001b[39;00m LinearRegression\n\u001b[0;32m      3\u001b[0m \u001b[38;5;66;03m# Создание и обучение модели\u001b[39;00m\n\u001b[0;32m      4\u001b[0m model \u001b[38;5;241m=\u001b[39m LinearRegression()\n",
      "\u001b[1;31mModuleNotFoundError\u001b[0m: No module named 'sklearn'"
     ]
    }
   ],
   "source": [
    "from sklearn.linear_model import LinearRegression\n",
    "\n",
    "# Создание и обучение модели\n",
    "model = LinearRegression()\n",
    "model.fit(X_train, y_train)\n",
    "\n",
    "# Предсказание\n",
    "y_pred = model.predict(X_test)\n"
   ]
  },
  {
   "cell_type": "code",
   "execution_count": null,
   "metadata": {},
   "outputs": [
    {
     "ename": "ModuleNotFoundError",
     "evalue": "No module named 'sklearn'",
     "output_type": "error",
     "traceback": [
      "\u001b[1;31m---------------------------------------------------------------------------\u001b[0m",
      "\u001b[1;31mModuleNotFoundError\u001b[0m                       Traceback (most recent call last)",
      "Cell \u001b[1;32mIn[2], line 1\u001b[0m\n\u001b[1;32m----> 1\u001b[0m \u001b[38;5;28;01mfrom\u001b[39;00m \u001b[38;5;21;01msklearn\u001b[39;00m\u001b[38;5;21;01m.\u001b[39;00m\u001b[38;5;21;01mmetrics\u001b[39;00m \u001b[38;5;28;01mimport\u001b[39;00m accuracy_score, mean_squared_error\n\u001b[0;32m      3\u001b[0m \u001b[38;5;66;03m# Пример для классификации\u001b[39;00m\n\u001b[0;32m      4\u001b[0m accuracy \u001b[38;5;241m=\u001b[39m accuracy_score(y_test, y_pred)\n",
      "\u001b[1;31mModuleNotFoundError\u001b[0m: No module named 'sklearn'"
     ]
    }
   ],
   "source": [
    "from sklearn.metrics import accuracy_score, mean_squared_error\n",
    "\n",
    "# Пример для классификации\n",
    "accuracy = accuracy_score(y_test, y_pred)\n",
    "print(f\"Accuracy: {accuracy:.2f}\")\n",
    "\n",
    "# Пример для регрессии\n",
    "mse = mean_squared_error(y_test, y_pred)\n",
    "print(f\"MSE: {mse:.2f}\")\n"
   ]
  },
  {
   "cell_type": "code",
   "execution_count": null,
   "metadata": {},
   "outputs": [],
   "source": [
    "import matplotlib.pyplot as plt\n",
    "\n",
    "# Визуализация предсказанных и реальных значений\n",
    "plt.scatter(y_test, y_pred)\n",
    "plt.xlabel(\"Actual\")\n",
    "plt.ylabel(\"Predicted\")\n",
    "plt.title(\"Actual vs Predicted\")\n",
    "plt.show()\n"
   ]
  }
 ],
 "metadata": {
  "kernelspec": {
   "display_name": "Python 3",
   "language": "python",
   "name": "python3"
  },
  "language_info": {
   "codemirror_mode": {
    "name": "ipython",
    "version": 3
   },
   "file_extension": ".py",
   "mimetype": "text/x-python",
   "name": "python",
   "nbconvert_exporter": "python",
   "pygments_lexer": "ipython3",
   "version": "3.13.1"
  }
 },
 "nbformat": 4,
 "nbformat_minor": 2
}
